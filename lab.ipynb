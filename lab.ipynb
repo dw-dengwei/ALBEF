{
 "cells": [
  {
   "cell_type": "code",
   "execution_count": 1,
   "metadata": {},
   "outputs": [],
   "source": [
    "from models.tokenization_bert import BertTokenizer\n",
    "tokenizer = BertTokenizer.from_pretrained('bert-base-uncased')"
   ]
  },
  {
   "cell_type": "code",
   "execution_count": 4,
   "metadata": {},
   "outputs": [
    {
     "name": "stdout",
     "output_type": "stream",
     "text": [
      "['engineered', 'eats', 'is', 'on', 'these', 'wing', '##less', 'devils', 'from', 'are', 'del', '##ish', 'what', 'are', 'you', 'having', 'for', 'lunch', 'y', '##y', '##c', 'beak', '##er', '##head']\n"
     ]
    }
   ],
   "source": [
    "text = 'Engineered Eats is ON These Wingless Devils from are delish What are you having for lunch yyc Beakerhead'\n",
    "tokens = tokenizer.tokenize(text)\n",
    "print(tokens)"
   ]
  }
 ],
 "metadata": {
  "interpreter": {
   "hash": "653d35ad9ed2c89b3e7374111a878afb8229827314759d2682958875ce789f2e"
  },
  "kernelspec": {
   "display_name": "Python 3.6.13 ('py36')",
   "language": "python",
   "name": "python3"
  },
  "language_info": {
   "codemirror_mode": {
    "name": "ipython",
    "version": 3
   },
   "file_extension": ".py",
   "mimetype": "text/x-python",
   "name": "python",
   "nbconvert_exporter": "python",
   "pygments_lexer": "ipython3",
   "version": "3.6.13"
  },
  "orig_nbformat": 4
 },
 "nbformat": 4,
 "nbformat_minor": 2
}
