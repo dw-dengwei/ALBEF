{
 "cells": [
  {
   "cell_type": "code",
   "execution_count": 13,
   "metadata": {},
   "outputs": [],
   "source": [
    "from sklearn import metrics\n",
    "import torch\n",
    "import numpy as np"
   ]
  },
  {
   "cell_type": "code",
   "execution_count": 8,
   "metadata": {},
   "outputs": [],
   "source": [
    "y_pred = [0] * 10 + [1] * 10 + [2] * 10\n",
    "y_true = [0] * 5 + [1] * 10 + [2] * 15\n",
    "\n",
    "y_pred = torch.tensor(y_pred)\n",
    "y_true = torch.tensor(y_true)"
   ]
  },
  {
   "cell_type": "code",
   "execution_count": 15,
   "metadata": {},
   "outputs": [],
   "source": [
    "cm = metrics.confusion_matrix(y_pred=y_pred, y_true=y_true, labels=range(3))\n",
    "cm = cm.astype(np.float32)\n",
    "FP = cm.sum(axis=0) - np.diag(cm)\n",
    "FN = cm.sum(axis=1) - np.diag(cm)\n",
    "TP = np.diag(cm)\n",
    "TN = cm.sum() - (FP + FN + TP)\n",
    "\n",
    "\n",
    "# Sensitivity, hit rate, recall, or true positive rate\n",
    "TPR = TP / (TP + FN)\n",
    "# Specificity or true negative rate\n",
    "TNR = TN / (TN + FP)\n",
    "# Precision or positive predictive value\n",
    "PPV = TP / (TP + FP)\n",
    "# Negative predictive value\n",
    "NPV = TN / (TN + FN)\n",
    "# Fall out or false positive rate\n",
    "FPR = FP / (FP + TN)\n",
    "# False negative rate\n",
    "FNR = FN / (TP + FN)\n",
    "# False discovery rate\n",
    "FDR = FP / (TP + FP)\n",
    " \n",
    "# Overall accuracy\n",
    "ACC = (TP + TN) / (TP + FP + FN + TN)\n",
    "# ACC_micro = (sum(TP) + sum(TN)) / (sum(TP) + sum(FP) + sum(FN) + sum(TN))\n",
    "ACC_macro = np.mean(ACC) # to get a sense of effectiveness of our method on the small classes we computed this average (macro-average)\n",
    " \n",
    "F1 = (2 * PPV * TPR) / (PPV + TPR)\n"
   ]
  },
  {
   "cell_type": "code",
   "execution_count": 22,
   "metadata": {},
   "outputs": [],
   "source": [
    "sklearn_acc = metrics.accuracy_score(y_true, y_pred)\n",
    "sklearn_f1 = metrics.f1_score(y_true, y_pred, labels=range(3), average='macro')"
   ]
  }
 ],
 "metadata": {
  "interpreter": {
   "hash": "653d35ad9ed2c89b3e7374111a878afb8229827314759d2682958875ce789f2e"
  },
  "kernelspec": {
   "display_name": "Python 3.6.13 ('py36')",
   "language": "python",
   "name": "python3"
  },
  "language_info": {
   "codemirror_mode": {
    "name": "ipython",
    "version": 3
   },
   "file_extension": ".py",
   "mimetype": "text/x-python",
   "name": "python",
   "nbconvert_exporter": "python",
   "pygments_lexer": "ipython3",
   "version": "3.6.13"
  },
  "orig_nbformat": 4
 },
 "nbformat": 4,
 "nbformat_minor": 2
}
